{
 "cells": [
  {
   "cell_type": "code",
   "execution_count": 49,
   "metadata": {
    "collapsed": false
   },
   "outputs": [
    {
     "name": "stdout",
     "output_type": "stream",
     "text": [
      "TGACTAGCTAATGCATATCATAAACGATAGTATGTATATATAGCTACGCAAGTA\n"
     ]
    }
   ],
   "source": [
    "#Complementing DNA\n",
    "mydna = 'ACTGATCGATTACGTATAGTATTTGCTATCATACATATATATCGATGCGTTCAT'\n",
    "replaceA = mydna.replace('A', 't')\n",
    "replaceT = replaceA.replace('T', 'a')\n",
    "replaceC = replaceT.replace('C', 'g')\n",
    "replaceG = replaceC.replace('G', 'c')\n",
    "print(replaceG.upper())"
   ]
  },
  {
   "cell_type": "code",
   "execution_count": 50,
   "metadata": {
    "collapsed": false
   },
   "outputs": [
    {
     "name": "stdout",
     "output_type": "stream",
     "text": [
      "length of fragment one is 22\n",
      "length of fragment two is 33\n"
     ]
    }
   ],
   "source": [
    "#Restriction Fragment Lengths\n",
    "mydna = 'ACTGATCGATTACGTATAGTAGAATTCTATCATACATATATATCGATGCGTTCAT'\n",
    "frag1_length = mydna.find(\"GAATTC\") + 1\n",
    "frag2_length = len(mydna) - frag1_length\n",
    "print('length of fragment one is ' + str(frag1_length))\n",
    "print('length of fragment two is ' + str(frag2_length))"
   ]
  },
  {
   "cell_type": "code",
   "execution_count": 51,
   "metadata": {
    "collapsed": false
   },
   "outputs": [
    {
     "name": "stdout",
     "output_type": "stream",
     "text": [
      "ATCGATCGATCGATCGACTGACTAGCATAGCTATGCATGTAGCTACTCGATCGATCGATCGATCCATCGATCGATATCGATGCATCGATACTAT\n"
     ]
    }
   ],
   "source": [
    "#splicing out introns\n",
    "mydna = 'ATCGATCGATCGATCGACTGACTAGCATAGCTATGCATGTAGCTACTCGATCGATCGATCGATCGATCGATCGATCGATCGATCATGCTATCATCGATCGATATCGATGCATCGATACTAT'\n",
    "exons = (mydna[0:64] + mydna[91:])\n",
    "print(exons)"
   ]
  },
  {
   "cell_type": "code",
   "execution_count": 52,
   "metadata": {
    "collapsed": false
   },
   "outputs": [
    {
     "name": "stdout",
     "output_type": "stream",
     "text": [
      "77.68595041322314\n"
     ]
    }
   ],
   "source": [
    "#splicing out introns part 2\n",
    "codinglength = len(exons)\n",
    "totallength = len(mydna)\n",
    "print(100 * codinglength / totallength)"
   ]
  },
  {
   "cell_type": "code",
   "execution_count": 53,
   "metadata": {
    "collapsed": false
   },
   "outputs": [
    {
     "name": "stdout",
     "output_type": "stream",
     "text": [
      "ATCGATCGATCGATCGACTGACTAGCATAGCTATGCATGTAGCTACTCGATCGATCGATCGATCgatcgatcgatcgatcgatcatgctatCATCGATCGATATCGATGCATCGATACTAT\n"
     ]
    }
   ],
   "source": [
    "#splicing out introns part 3\n",
    "exon1 = mydna[0:64]\n",
    "intron = mydna[64:91]\n",
    "exon2 = mydna[91:]\n",
    "print(exon1 + intron.lower() + exon2)"
   ]
  },
  {
   "cell_type": "code",
   "execution_count": 54,
   "metadata": {
    "collapsed": false
   },
   "outputs": [],
   "source": [
    "#splitting genomic dna\n",
    "#open the file and read its contents\n",
    "dna_file = open('/home/eeb177-student/Desktop/ch3/genomic_dna.txt')\n",
    "my_dna = dna_file.read()"
   ]
  },
  {
   "cell_type": "code",
   "execution_count": 55,
   "metadata": {
    "collapsed": true
   },
   "outputs": [],
   "source": [
    "#extract bits of DNA sequence\n",
    "exon1 = my_dna[0:63]\n",
    "intron = my_dna[63:90]\n",
    "exon2 = my_dna[90:]"
   ]
  },
  {
   "cell_type": "code",
   "execution_count": 56,
   "metadata": {
    "collapsed": true
   },
   "outputs": [],
   "source": [
    "#open the two output files\n",
    "coding_file = open('/home/eeb177-student/Desktop/ch3/coding_dna.txt' , 'w')\n",
    "noncoding_file = open('/home/eeb177-student/Desktop/ch3/noncoding_dna.txt', 'w')"
   ]
  },
  {
   "cell_type": "code",
   "execution_count": 57,
   "metadata": {
    "collapsed": false
   },
   "outputs": [
    {
     "data": {
      "text/plain": [
       "'ATCGATCGATCGATCGACTGACTAGTCATAGCTATGCATGTAGCTACTCGATCGATCGATCGA'"
      ]
     },
     "execution_count": 57,
     "metadata": {},
     "output_type": "execute_result"
    }
   ],
   "source": [
    "exon1"
   ]
  },
  {
   "cell_type": "code",
   "execution_count": 58,
   "metadata": {
    "collapsed": false
   },
   "outputs": [],
   "source": [
    "#write the sequences to the output files\n",
    "coding_file.write(exon1 + exon2)\n",
    "noncoding_file.write(intron)\n",
    "coding_file.close()\n",
    "noncoding_file.close()"
   ]
  },
  {
   "cell_type": "code",
   "execution_count": 59,
   "metadata": {
    "collapsed": true
   },
   "outputs": [],
   "source": [
    "#writing a FASTA file\n",
    "#setting header variables\n",
    "header_1 = 'ABC123'\n",
    "header_2 = 'DEF456'\n",
    "header_3 = 'HIJ789'\n",
    "\n",
    "#setting values of sequence variables\n",
    "seq_1 = 'ATCGTACGATCGATCGATCGCTAGACGTATCG'\n",
    "seq_2 = 'actgatcgacgatcgatcgatcacgact'\n",
    "seq_3 = 'ACTGAC-ACTGT-ACTGTA----CATGTG'\n",
    "\n",
    "#make a new file for the output\n",
    "output = open('/home/eeb177-student/Desktop/ch3/sequences.fasta', 'w')\n",
    "\n",
    "#write the header and sequence for seq_1\n",
    "output.write('>' + header_1 + '\\n' + seq_1 + '\\n')\n",
    "\n",
    "#write the header and uppercase sequence for seq2\n",
    "output.write('>' + header_2 + '\\n' + seq_2.upper() + '\\n')\n",
    "\n",
    "#write the header and sequence for seq3 with hyphens removed\n",
    "output.write('>' + header_3 + '\\n' + seq_3.replace('-', '') + '\\n')\n",
    "\n",
    "output.close()"
   ]
  },
  {
   "cell_type": "code",
   "execution_count": 60,
   "metadata": {
    "collapsed": false,
    "scrolled": true
   },
   "outputs": [
    {
     "name": "stdout",
     "output_type": "stream",
     "text": [
      "processed sequence with length 43\n",
      "processed sequence with length 38\n",
      "processed sequence with length 49\n",
      "processed sequence with length 34\n",
      "processed sequence with length 48\n"
     ]
    }
   ],
   "source": [
    "#processing DNA in a file\n",
    "file = open('/home/eeb177-student/Desktop/ch4/input.txt')\n",
    "output = open('/home/eeb177-student/Desktop/ch4/trimmed.txt', 'w')\n",
    "for dna in file:\n",
    "    trimmed_dna = dna[14:]\n",
    "    print(\"processed sequence with length \" + str(len(trimmed_dna)))\n",
    "    output.write(trimmed_dna)\n",
    "output.close()"
   ]
  },
  {
   "cell_type": "code",
   "execution_count": 65,
   "metadata": {
    "collapsed": false
   },
   "outputs": [],
   "source": [
    "#Multiple exons from genomic DNA\n",
    "genomic_dna = open('/home/eeb177-student/Desktop/ch4/genomic_dna.txt').read()\n",
    "exon_locations = open('/home/eeb177-student/Desktop/ch4/exons.txt')\n",
    "coding_sequence = ''\n",
    "output = open('/home/eeb177-student/Desktop/ch4/coding_sequence.txt', 'w')\n",
    "for line in exon_locations:\n",
    "    positions = line.split(',')\n",
    "    start = int(positions[0])\n",
    "    stop = int(positions[1])\n",
    "    exon = genomic_dna[start:stop]\n",
    "    coding_sequence = coding_sequence + exon\n",
    "output.write(coding_sequence)\n",
    "output.close()"
   ]
  },
  {
   "cell_type": "code",
   "execution_count": null,
   "metadata": {
    "collapsed": true
   },
   "outputs": [],
   "source": []
  }
 ],
 "metadata": {
  "anaconda-cloud": {},
  "kernelspec": {
   "display_name": "Python [default]",
   "language": "python",
   "name": "python3"
  },
  "language_info": {
   "codemirror_mode": {
    "name": "ipython",
    "version": 3
   },
   "file_extension": ".py",
   "mimetype": "text/x-python",
   "name": "python",
   "nbconvert_exporter": "python",
   "pygments_lexer": "ipython3",
   "version": "3.5.2"
  }
 },
 "nbformat": 4,
 "nbformat_minor": 2
}
