{
 "cells": [
  {
   "cell_type": "markdown",
   "metadata": {},
   "source": [
    "### Part 1: Code Academy Review\n",
    "\n",
    "python syntax: (/home/eeb177-student/Desktop/eeb-177/homework/python_syntax.png)\n",
    "\n",
    "strings and console output: (/home/eeb177-student/Desktop/eeb-177/homework/strings_and_console.png)\n",
    "\n",
    "Condtitionals and Control flow: (/home/eeb177-student/Desktop/eeb-177/homework/conditionals_and_control.png)\n",
    "\n",
    "Functions: (/home/eeb177-student/Desktop/eeb-177/homework/functions.png)\n",
    "\n",
    "Python Lists and Dictionaries + Lists and Functions: (/home/eeb177-student/Desktop/eeb-177/homework/lists_functions_dictionaries.png)\n",
    "\n",
    "Loops: (/home/eeb177-student/Desktop/eeb-177/homework/loops.png)\n",
    "\n",
    "Practice makes perfect: (/home/eeb177-student/Desktop/eeb-177/homework/practice.png)"
   ]
  },
  {
   "cell_type": "markdown",
   "metadata": {
    "collapsed": true
   },
   "source": [
    "### Part 2: Python for Biologists Ch. 8\n",
    "\n",
    "#### pseudocode\n",
    "\n",
    "open genetic code file\n",
    "\n",
    "using ranges and for loops divide the file up into codons and store each\n",
    "\n",
    "use amino acids from the gencode list\n",
    "\n",
    "make a list of amino acids "
   ]
  },
  {
   "cell_type": "markdown",
   "metadata": {},
   "source": []
  },
  {
   "cell_type": "code",
   "execution_count": 2,
   "metadata": {
    "collapsed": true
   },
   "outputs": [],
   "source": [
    "#real code\n",
    "gencode = {\n",
    "    'ATA':'I', 'ATC':'I', 'ATT':'I', 'ATG':'M',\n",
    "    'ACA':'T', 'ACC':'T', 'ACG':'T', 'ACT':'T',\n",
    "    'AAC':'N', 'AAT':'N', 'AAA':'K', 'AAG':'K',\n",
    "    'AGC':'S', 'AGT':'S', 'AGA':'R', 'AGG':'R',\n",
    "    'CTA':'L', 'CTC':'L', 'CTG':'L', 'CTT':'L',\n",
    "    'CCA':'P', 'CCC':'P', 'CCG':'P', 'CCT':'P',\n",
    "    'CAC':'H', 'CAT':'H', 'CAA':'Q', 'CAG':'Q',\n",
    "    'CGA':'R', 'CGC':'R', 'CGG':'R', 'CGT':'R',\n",
    "    'GTA':'V', 'GTC':'V', 'GTG':'V', 'GTT':'V',\n",
    "    'GCA':'A', 'GCC':'A', 'GCG':'A', 'GCT':'A',\n",
    "    'GAC':'D', 'GAT':'D', 'GAA':'E', 'GAG':'E',\n",
    "    'GGA':'G', 'GGC':'G', 'GGG':'G', 'GGT':'G',\n",
    "    'TCA':'S', 'TCC':'S', 'TCG':'S', 'TCT':'S',\n",
    "    'TTC':'F', 'TTT':'F', 'TTA':'L', 'TTG':'L',\n",
    "    'TAC':'Y', 'TAT':'Y', 'TAA':'_', 'TAG':'_',\n",
    "    'TGC':'C', 'TGT':'C', 'TGA':'_', 'TGG':'W'}\n",
    "def translate_dna(dna):\n",
    "    last_codon_start = len(dna) - 2\n",
    "    protein = \"\"\n",
    "    for start in range(0,last_codon_start,3):\n",
    "        codon = dna[start:start+3]\n",
    "        aa = gencode.get(codon, 'X')\n",
    "        protein = protein + aa\n",
    "    return protein"
   ]
  },
  {
   "cell_type": "markdown",
   "metadata": {},
   "source": [
    "### Part 3 Allesina and Wilmes Ch. 4"
   ]
  },
  {
   "cell_type": "code",
   "execution_count": 4,
   "metadata": {
    "collapsed": true
   },
   "outputs": [],
   "source": [
    "#simulation program in 4.3.2\n",
    "import scipy\n",
    "\n",
    "def build_population(N, p):\n",
    "    population = []\n",
    "    for i in range(N):\n",
    "        allele1 = \"A\"\n",
    "        if scipy.random.rand() > p:\n",
    "            allele1 = \"a\"\n",
    "        allele2 = \"A\"\n",
    "        if scipy.random.rand() > p:\n",
    "            allele2 = \"a\"\n",
    "        population.append((allele1, allele2))\n",
    "    return population\n",
    "\n",
    "def compute_frequencies(population):\n",
    "    AA = population.count(('A', 'A'))\n",
    "    Aa = population.count(('A', 'a'))\n",
    "    aA = population.count(('a', 'A'))\n",
    "    aa = population.count(('a', 'a'))\n",
    "    return({'AA': AA, 'aa': aa, 'Aa': Aa, 'aA': aA})\n",
    "\n",
    "def reproduce_population(population):\n",
    "    new_generation = []\n",
    "    N = len(population)\n",
    "    for i in range(N):\n",
    "        dad = scipy.random.randint(N)\n",
    "        mom = scipy.random.randint(N)\n",
    "        che_mom = scipy.random.randint(2)\n",
    "        offspring = (population[mom][chr_mom], population[dad] [1 - chr_mom])\n",
    "        new_generation.append(offspring)\n",
    "    return(new_generation)\n",
    "\n",
    "def simulate_drift(N, p):\n",
    "    my_pop = drift.build_population(N, p)\n",
    "    fixation = False\n",
    "    num_generations = 0\n",
    "    while fixation == False:\n",
    "        genotype_counts = drift.compute_frequencies(my_pop)\n",
    "        if genotype_counts['AA'] == N or genotype_counts['aa'] == N:\n",
    "            print('An allele reached fixation at generation', num_generations)\n",
    "            print('The genotype counts are')\n",
    "            print(genotype_counts)\n",
    "            fixation == True\n",
    "            break\n",
    "        my_pop = drift.reproduce_population(my_pop)\n",
    "        num_generations = num_generations + 1"
   ]
  },
  {
   "cell_type": "code",
   "execution_count": 111,
   "metadata": {
    "collapsed": false
   },
   "outputs": [],
   "source": [
    "#Part 1 of 4.9.1\n",
    "def r_mean(Taxon):\n",
    "    my_file = open('/home/eeb177-student/Desktop/eeb-177/homework/Jiang2013_data.csv')\n",
    "    r_dict = {}\n",
    "    my_file.readline()\n",
    "    for line in my_file:\n",
    "        items = line.split('\\t')\n",
    "        Taxons = items[1]\n",
    "        r = items[3]\n",
    "        r_dict.setdefault(Taxons, [])\n",
    "        if Taxon in r_dict:\n",
    "            r_dict[Taxons].append(r)\n",
    "        else:\n",
    "            r_dict[Taxons] = r\n",
    "    Total = 0\n",
    "    for key in r_dict[Taxon]:\n",
    "        Total = Total + float(key)\n",
    "        mean = Total/len(r_dict[Taxon])    \n",
    "    print(mean)"
   ]
  },
  {
   "cell_type": "code",
   "execution_count": 112,
   "metadata": {
    "collapsed": false
   },
   "outputs": [
    {
     "name": "stdout",
     "output_type": "stream",
     "text": [
      "0.39719005173783783\n"
     ]
    }
   ],
   "source": [
    "r_mean('Fish')"
   ]
  },
  {
   "cell_type": "code",
   "execution_count": null,
   "metadata": {
    "collapsed": true
   },
   "outputs": [],
   "source": []
  }
 ],
 "metadata": {
  "anaconda-cloud": {},
  "kernelspec": {
   "display_name": "Python [default]",
   "language": "python",
   "name": "python3"
  },
  "language_info": {
   "codemirror_mode": {
    "name": "ipython",
    "version": 3
   },
   "file_extension": ".py",
   "mimetype": "text/x-python",
   "name": "python",
   "nbconvert_exporter": "python",
   "pygments_lexer": "ipython3",
   "version": "3.5.2"
  }
 },
 "nbformat": 4,
 "nbformat_minor": 2
}
