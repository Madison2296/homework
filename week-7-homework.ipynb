{
 "cells": [
  {
   "cell_type": "markdown",
   "metadata": {},
   "source": [
    "### Part 1: Code Academy Review\n",
    "\n",
    "python syntax: (/home/eeb177-student/Desktop/eeb-177/homework/python_syntax.png)\n",
    "\n",
    "strings and console output: (/home/eeb177-student/Desktop/eeb-177/homework/strings_and_console.png)\n",
    "\n",
    "Condtitionals and Control flow: (/home/eeb177-student/Desktop/eeb-177/homework/conditionals_and_control.png)\n",
    "\n",
    "Functions: (/home/eeb177-student/Desktop/eeb-177/homework/functions.png)\n",
    "\n",
    "Python Lists and Dictionaries + Lists and Functions: (/home/eeb177-student/Desktop/eeb-177/homework/lists_functions_dictionaries.png)\n",
    "\n",
    "Loops: (/home/eeb177-student/Desktop/eeb-177/homework/loops.png)\n",
    "\n",
    "Practice makes perfect: (/home/eeb177-student/Desktop/eeb-177/homework/practice.png)"
   ]
  },
  {
   "cell_type": "code",
   "execution_count": null,
   "metadata": {
    "collapsed": true
   },
   "outputs": [],
   "source": []
  }
 ],
 "metadata": {
  "anaconda-cloud": {},
  "kernelspec": {
   "display_name": "Python [default]",
   "language": "python",
   "name": "python3"
  },
  "language_info": {
   "codemirror_mode": {
    "name": "ipython",
    "version": 3
   },
   "file_extension": ".py",
   "mimetype": "text/x-python",
   "name": "python",
   "nbconvert_exporter": "python",
   "pygments_lexer": "ipython3",
   "version": "3.5.2"
  }
 },
 "nbformat": 4,
 "nbformat_minor": 2
}
