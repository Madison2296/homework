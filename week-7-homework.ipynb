{
 "cells": [
  {
   "cell_type": "markdown",
   "metadata": {},
   "source": [
    "Using the following code in unix, but replacing the web address with the one for each fish and the fact with each fact we are interested in.\n",
    "\n",
    "curl -s (web address) | grep (fact)\n",
    "\n",
    "The web addresses are as follows:\n",
    "\n",
    "http://fishbase.us/summary/SpeciesSummary.php?ID=6400&AT=puffer+fish\n",
    "\n",
    "http://fishbase.us/summary/SpeciesSummary.php?ID=8086&AT=clown+fish\n",
    "\n",
    "http://fishbase.us/summary/SpeciesSummary.php?ID=12837&AT=rainbow+fish\n",
    "\n",
    "http://fishbase.us/summary/SpeciesSummary.php?ID=271&AT=goldfish\n",
    "\n",
    "The facts are as follows:\n",
    "\n",
    "Family\n",
    "\n",
    "Max Length\n",
    "\n",
    "Environment"
   ]
  },
  {
   "cell_type": "markdown",
   "metadata": {},
   "source": [
    "### My Favorite Fishes\n",
    "\n",
    "#### puffer fish\n",
    "\n",
    "Family: Tetraodontidae\n",
    "\n",
    "Max length: 33.0 cm\n",
    "\n",
    "Environment: Marine\n",
    "\n",
    "#### clown fish\n",
    "\n",
    "Family:Pomacentridae \n",
    "\n",
    "Max length: 13.0 cm\n",
    "\n",
    "Environment: Marine\n",
    "\n",
    "#### Rainbow fish\n",
    "\n",
    "Family:Odacidae \n",
    "\n",
    "Max length:24.0 cm\n",
    "\n",
    "Environment:Marine\n",
    "\n",
    "#### Goldfish\n",
    "\n",
    "Family:Cyprinidae \n",
    "\n",
    "Max length:48.0 cm\n",
    "\n",
    "Environment:Freshwater"
   ]
  },
  {
   "cell_type": "code",
   "execution_count": null,
   "metadata": {
    "collapsed": true
   },
   "outputs": [],
   "source": []
  }
 ],
 "metadata": {
  "anaconda-cloud": {},
  "kernelspec": {
   "display_name": "Python [default]",
   "language": "python",
   "name": "python3"
  },
  "language_info": {
   "codemirror_mode": {
    "name": "ipython",
    "version": 3
   },
   "file_extension": ".py",
   "mimetype": "text/x-python",
   "name": "python",
   "nbconvert_exporter": "python",
   "pygments_lexer": "ipython3",
   "version": "3.5.2"
  }
 },
 "nbformat": 4,
 "nbformat_minor": 2
}
